{
 "cells": [
  {
   "cell_type": "code",
   "execution_count": 1,
   "metadata": {},
   "outputs": [],
   "source": [
    "import tensorflow as tf"
   ]
  },
  {
   "cell_type": "code",
   "execution_count": 25,
   "metadata": {
    "scrolled": false
   },
   "outputs": [],
   "source": [
    "path = '/Users/karthik/Documents/SophomoreYear/Research/bone2d/bone2d_data/image'\n",
    "mask_data = []\n",
    "images = skimage.io.imread_collection(path+\"/*.tif\")\n",
    "#need to convert the .tif to .jpg to work with skimage.io\n",
    "#concat = skimage.io.concatenate_images(images)\n",
    "\n",
    "#pickle.dump(concat, open(\"images_data.p\", \"wb\"))"
   ]
  },
  {
   "cell_type": "code",
   "execution_count": 26,
   "metadata": {},
   "outputs": [
    {
     "name": "stdout",
     "output_type": "stream",
     "text": [
      "30\n"
     ]
    }
   ],
   "source": [
    "path = '/Users/karthik/Documents/SophomoreYear/Research/bone2d/bone2d_data/mask'\n",
    "mask_data = []\n",
    "images = skimage.io.imread_collection(path+\"/*.jpg\")\n",
    "print(len(images))\n",
    "concat = skimage.io.concatenate_images(images)\n",
    "\n",
    "pickle.dump(concat, open(\"masks_data.p\", \"wb\"))\n",
    "    #np.save(\"/Users/karthik/Documents/SophomoreYear/Research/bone2d/bone2d_data/image_text/\" + file_split + \".p\", img_info, allow_pickle = True)"
   ]
  },
  {
   "cell_type": "code",
   "execution_count": null,
   "metadata": {},
   "outputs": [],
   "source": []
  }
 ],
 "metadata": {
  "kernelspec": {
   "display_name": "Python 3",
   "language": "python",
   "name": "python3"
  },
  "language_info": {
   "codemirror_mode": {
    "name": "ipython",
    "version": 3
   },
   "file_extension": ".py",
   "mimetype": "text/x-python",
   "name": "python",
   "nbconvert_exporter": "python",
   "pygments_lexer": "ipython3",
   "version": "3.7.4"
  }
 },
 "nbformat": 4,
 "nbformat_minor": 2
}
